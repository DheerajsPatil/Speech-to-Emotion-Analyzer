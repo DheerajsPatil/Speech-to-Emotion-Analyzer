{
 "cells": [
  {
   "cell_type": "markdown",
   "id": "be7e098e",
   "metadata": {},
   "source": [
    "## Import libraries"
   ]
  },
  {
   "cell_type": "code",
   "execution_count": 1,
   "id": "6a55a964",
   "metadata": {},
   "outputs": [
    {
     "name": "stdout",
     "output_type": "stream",
     "text": [
      "WARNING:tensorflow:From C:\\Users\\Dheeraj Patil\\AppData\\Roaming\\Python\\Python311\\site-packages\\keras\\src\\losses.py:2976: The name tf.losses.sparse_softmax_cross_entropy is deprecated. Please use tf.compat.v1.losses.sparse_softmax_cross_entropy instead.\n",
      "\n"
     ]
    }
   ],
   "source": [
    "import gradio as gr\n",
    "import torch\n",
    "import whisper\n",
    "import warnings\n",
    "warnings.filterwarnings('ignore')\n",
    "from transformers import pipeline\n",
    "import os"
   ]
  },
  {
   "cell_type": "markdown",
   "id": "23812cb7",
   "metadata": {},
   "source": [
    "## Import and load models"
   ]
  },
  {
   "cell_type": "code",
   "execution_count": 2,
   "id": "9386e4d9",
   "metadata": {},
   "outputs": [
    {
     "name": "stderr",
     "output_type": "stream",
     "text": [
      "Special tokens have been added in the vocabulary, make sure the associated word embeddings are fine-tuned or trained.\n"
     ]
    }
   ],
   "source": [
    "MODEL_NAME = \"openai/whisper-small\"\n",
    "BATCH_SIZE = 8\n",
    "\n",
    "device = 0 if torch.cuda.is_available() else \"cpu\"\n",
    "\n",
    "pipe = pipeline(\n",
    "    task=\"automatic-speech-recognition\",\n",
    "    model=MODEL_NAME,\n",
    "    chunk_length_s=30,\n",
    "    device=device)\n"
   ]
  },
  {
   "cell_type": "code",
   "execution_count": 3,
   "id": "323b2d0e",
   "metadata": {},
   "outputs": [],
   "source": [
    "emotion_classifier = pipeline(\"text-classification\",model='MilaNLProc/xlm-emo-t', return_all_scores=True)"
   ]
  },
  {
   "cell_type": "markdown",
   "id": "d6c14b75",
   "metadata": {},
   "source": [
    "## Audio transcription"
   ]
  },
  {
   "cell_type": "code",
   "execution_count": 4,
   "id": "b9d039f4",
   "metadata": {},
   "outputs": [],
   "source": [
    "def transcribe(microphone, file_upload, task):\n",
    "    output = \"\"\n",
    "    if (microphone is not None) and (file_upload is not None):\n",
    "        warn_output = (\n",
    "            \"WARNING: You've uploaded an audio file and used the microphone. \"\n",
    "            \"The recorded file from the microphone will be used and the uploaded audio will be discarded.\\n\"\n",
    "        )\n",
    "\n",
    "    elif (microphone is None) and (file_upload is None):\n",
    "        raise gr.Error(\"You have to either use the microphone or upload an audio file\")\n",
    "\n",
    "    file = microphone if microphone is not None else file_upload\n",
    "\n",
    "    text = pipe(file, batch_size=BATCH_SIZE, generate_kwargs={\"task\": task})[\"text\"]\n",
    "\n",
    "    return output + text"
   ]
  },
  {
   "cell_type": "markdown",
   "id": "a57c5990",
   "metadata": {},
   "source": [
    "## Emotion detection"
   ]
  },
  {
   "cell_type": "code",
   "execution_count": 5,
   "id": "3997db87",
   "metadata": {},
   "outputs": [],
   "source": [
    "def translate_and_classify(audio):\n",
    "    text_result = transcribe(audio, None, \"transcribe\")    \n",
    "    emotion = emotion_classifier(text_result)\n",
    "    detected_emotion = {}\n",
    "    for emotion in emotion[0]:\n",
    "        detected_emotion[emotion[\"label\"]] = emotion[\"score\"]\n",
    "    return text_result, detected_emotion"
   ]
  },
  {
   "cell_type": "markdown",
   "id": "ec2fc70d",
   "metadata": {},
   "source": [
    "## App Interface"
   ]
  },
  {
   "cell_type": "code",
   "execution_count": 6,
   "id": "5c67ea35",
   "metadata": {},
   "outputs": [
    {
     "name": "stdout",
     "output_type": "stream",
     "text": [
      "Running on local URL:  http://127.0.0.1:7860\n",
      "\n",
      "To create a public link, set `share=True` in `launch()`.\n"
     ]
    },
    {
     "data": {
      "text/html": [
       "<div><iframe src=\"http://127.0.0.1:7860/\" width=\"100%\" height=\"500\" allow=\"autoplay; camera; microphone; clipboard-read; clipboard-write;\" frameborder=\"0\" allowfullscreen></iframe></div>"
      ],
      "text/plain": [
       "<IPython.core.display.HTML object>"
      ]
     },
     "metadata": {},
     "output_type": "display_data"
    },
    {
     "data": {
      "text/plain": []
     },
     "execution_count": 6,
     "metadata": {},
     "output_type": "execute_result"
    },
    {
     "name": "stderr",
     "output_type": "stream",
     "text": [
      "Exception in thread Thread-7 (_do_normal_analytics_request):\n",
      "Traceback (most recent call last):\n",
      "  File \"C:\\Users\\Dheeraj Patil\\AppData\\Roaming\\Python\\Python311\\site-packages\\httpx\\_transports\\default.py\", line 69, in map_httpcore_exceptions\n",
      "    yield\n",
      "  File \"C:\\Users\\Dheeraj Patil\\AppData\\Roaming\\Python\\Python311\\site-packages\\httpx\\_transports\\default.py\", line 233, in handle_request\n",
      "    resp = self._pool.handle_request(req)\n",
      "           ^^^^^^^^^^^^^^^^^^^^^^^^^^^^^^\n",
      "  File \"C:\\Users\\Dheeraj Patil\\AppData\\Roaming\\Python\\Python311\\site-packages\\httpcore\\_sync\\connection_pool.py\", line 216, in handle_request\n",
      "    raise exc from None\n",
      "  File \"C:\\Users\\Dheeraj Patil\\AppData\\Roaming\\Python\\Python311\\site-packages\\httpcore\\_sync\\connection_pool.py\", line 196, in handle_request\n",
      "    response = connection.handle_request(\n",
      "               ^^^^^^^^^^^^^^^^^^^^^^^^^^\n",
      "  File \"C:\\Users\\Dheeraj Patil\\AppData\\Roaming\\Python\\Python311\\site-packages\\httpcore\\_sync\\connection.py\", line 99, in handle_request\n",
      "    raise exc\n",
      "  File \"C:\\Users\\Dheeraj Patil\\AppData\\Roaming\\Python\\Python311\\site-packages\\httpcore\\_sync\\connection.py\", line 76, in handle_request\n",
      "    stream = self._connect(request)\n",
      "             ^^^^^^^^^^^^^^^^^^^^^^\n",
      "  File \"C:\\Users\\Dheeraj Patil\\AppData\\Roaming\\Python\\Python311\\site-packages\\httpcore\\_sync\\connection.py\", line 154, in _connect\n",
      "    stream = stream.start_tls(**kwargs)\n",
      "             ^^^^^^^^^^^^^^^^^^^^^^^^^^\n",
      "  File \"C:\\Users\\Dheeraj Patil\\AppData\\Roaming\\Python\\Python311\\site-packages\\httpcore\\_backends\\sync.py\", line 152, in start_tls\n",
      "    with map_exceptions(exc_map):\n",
      "  File \"C:\\ProgramData\\anaconda3\\Lib\\contextlib.py\", line 155, in __exit__\n",
      "    self.gen.throw(typ, value, traceback)\n",
      "  File \"C:\\Users\\Dheeraj Patil\\AppData\\Roaming\\Python\\Python311\\site-packages\\httpcore\\_exceptions.py\", line 14, in map_exceptions\n",
      "    raise to_exc(exc) from exc\n",
      "httpcore.ConnectTimeout: _ssl.c:985: The handshake operation timed out\n",
      "\n",
      "The above exception was the direct cause of the following exception:\n",
      "\n",
      "Traceback (most recent call last):\n",
      "  File \"C:\\ProgramData\\anaconda3\\Lib\\threading.py\", line 1038, in _bootstrap_inner\n",
      "    self.run()\n",
      "  File \"C:\\ProgramData\\anaconda3\\Lib\\threading.py\", line 975, in run\n",
      "    self._target(*self._args, **self._kwargs)\n",
      "  File \"C:\\Users\\Dheeraj Patil\\AppData\\Roaming\\Python\\Python311\\site-packages\\gradio\\analytics.py\", line 61, in _do_normal_analytics_request\n",
      "    data[\"ip_address\"] = get_local_ip_address()\n",
      "                         ^^^^^^^^^^^^^^^^^^^^^^\n",
      "  File \"C:\\Users\\Dheeraj Patil\\AppData\\Roaming\\Python\\Python311\\site-packages\\gradio\\analytics.py\", line 117, in get_local_ip_address\n",
      "    ip_address = httpx.get(\n",
      "                 ^^^^^^^^^^\n",
      "  File \"C:\\Users\\Dheeraj Patil\\AppData\\Roaming\\Python\\Python311\\site-packages\\httpx\\_api.py\", line 198, in get\n",
      "    return request(\n",
      "           ^^^^^^^^\n",
      "  File \"C:\\Users\\Dheeraj Patil\\AppData\\Roaming\\Python\\Python311\\site-packages\\httpx\\_api.py\", line 106, in request\n",
      "    return client.request(\n",
      "           ^^^^^^^^^^^^^^^\n",
      "  File \"C:\\Users\\Dheeraj Patil\\AppData\\Roaming\\Python\\Python311\\site-packages\\httpx\\_client.py\", line 827, in request\n",
      "    return self.send(request, auth=auth, follow_redirects=follow_redirects)\n",
      "           ^^^^^^^^^^^^^^^^^^^^^^^^^^^^^^^^^^^^^^^^^^^^^^^^^^^^^^^^^^^^^^^^\n",
      "  File \"C:\\Users\\Dheeraj Patil\\AppData\\Roaming\\Python\\Python311\\site-packages\\httpx\\_client.py\", line 914, in send\n",
      "    response = self._send_handling_auth(\n",
      "               ^^^^^^^^^^^^^^^^^^^^^^^^^\n",
      "  File \"C:\\Users\\Dheeraj Patil\\AppData\\Roaming\\Python\\Python311\\site-packages\\httpx\\_client.py\", line 942, in _send_handling_auth\n",
      "    response = self._send_handling_redirects(\n",
      "               ^^^^^^^^^^^^^^^^^^^^^^^^^^^^^^\n",
      "  File \"C:\\Users\\Dheeraj Patil\\AppData\\Roaming\\Python\\Python311\\site-packages\\httpx\\_client.py\", line 979, in _send_handling_redirects\n",
      "    response = self._send_single_request(request)\n",
      "               ^^^^^^^^^^^^^^^^^^^^^^^^^^^^^^^^^^\n",
      "  File \"C:\\Users\\Dheeraj Patil\\AppData\\Roaming\\Python\\Python311\\site-packages\\httpx\\_client.py\", line 1015, in _send_single_request\n",
      "    response = transport.handle_request(request)\n",
      "               ^^^^^^^^^^^^^^^^^^^^^^^^^^^^^^^^^\n",
      "  File \"C:\\Users\\Dheeraj Patil\\AppData\\Roaming\\Python\\Python311\\site-packages\\httpx\\_transports\\default.py\", line 232, in handle_request\n",
      "    with map_httpcore_exceptions():\n",
      "  File \"C:\\ProgramData\\anaconda3\\Lib\\contextlib.py\", line 155, in __exit__\n",
      "    self.gen.throw(typ, value, traceback)\n",
      "  File \"C:\\Users\\Dheeraj Patil\\AppData\\Roaming\\Python\\Python311\\site-packages\\httpx\\_transports\\default.py\", line 86, in map_httpcore_exceptions\n",
      "    raise mapped_exc(message) from exc\n",
      "httpx.ConnectTimeout: _ssl.c:985: The handshake operation timed out\n",
      "Exception in thread Thread-9 (_do_normal_analytics_request):\n",
      "Traceback (most recent call last):\n",
      "  File \"C:\\Users\\Dheeraj Patil\\AppData\\Roaming\\Python\\Python311\\site-packages\\httpx\\_transports\\default.py\", line 69, in map_httpcore_exceptions\n",
      "    yield\n",
      "  File \"C:\\Users\\Dheeraj Patil\\AppData\\Roaming\\Python\\Python311\\site-packages\\httpx\\_transports\\default.py\", line 233, in handle_request\n",
      "    resp = self._pool.handle_request(req)\n",
      "           ^^^^^^^^^^^^^^^^^^^^^^^^^^^^^^\n",
      "  File \"C:\\Users\\Dheeraj Patil\\AppData\\Roaming\\Python\\Python311\\site-packages\\httpcore\\_sync\\connection_pool.py\", line 216, in handle_request\n",
      "    raise exc from None\n",
      "  File \"C:\\Users\\Dheeraj Patil\\AppData\\Roaming\\Python\\Python311\\site-packages\\httpcore\\_sync\\connection_pool.py\", line 196, in handle_request\n",
      "    response = connection.handle_request(\n",
      "               ^^^^^^^^^^^^^^^^^^^^^^^^^^\n",
      "  File \"C:\\Users\\Dheeraj Patil\\AppData\\Roaming\\Python\\Python311\\site-packages\\httpcore\\_sync\\connection.py\", line 99, in handle_request\n",
      "    raise exc\n",
      "  File \"C:\\Users\\Dheeraj Patil\\AppData\\Roaming\\Python\\Python311\\site-packages\\httpcore\\_sync\\connection.py\", line 76, in handle_request\n",
      "    stream = self._connect(request)\n",
      "             ^^^^^^^^^^^^^^^^^^^^^^\n",
      "  File \"C:\\Users\\Dheeraj Patil\\AppData\\Roaming\\Python\\Python311\\site-packages\\httpcore\\_sync\\connection.py\", line 154, in _connect\n",
      "    stream = stream.start_tls(**kwargs)\n",
      "             ^^^^^^^^^^^^^^^^^^^^^^^^^^\n",
      "  File \"C:\\Users\\Dheeraj Patil\\AppData\\Roaming\\Python\\Python311\\site-packages\\httpcore\\_backends\\sync.py\", line 152, in start_tls\n",
      "    with map_exceptions(exc_map):\n",
      "  File \"C:\\ProgramData\\anaconda3\\Lib\\contextlib.py\", line 155, in __exit__\n",
      "    self.gen.throw(typ, value, traceback)\n",
      "  File \"C:\\Users\\Dheeraj Patil\\AppData\\Roaming\\Python\\Python311\\site-packages\\httpcore\\_exceptions.py\", line 14, in map_exceptions\n",
      "    raise to_exc(exc) from exc\n",
      "httpcore.ConnectTimeout: _ssl.c:985: The handshake operation timed out\n",
      "\n",
      "The above exception was the direct cause of the following exception:\n",
      "\n",
      "Traceback (most recent call last):\n",
      "  File \"C:\\ProgramData\\anaconda3\\Lib\\threading.py\", line 1038, in _bootstrap_inner\n",
      "    self.run()\n",
      "  File \"C:\\ProgramData\\anaconda3\\Lib\\threading.py\", line 975, in run\n",
      "    self._target(*self._args, **self._kwargs)\n",
      "  File \"C:\\Users\\Dheeraj Patil\\AppData\\Roaming\\Python\\Python311\\site-packages\\gradio\\analytics.py\", line 63, in _do_normal_analytics_request\n",
      "    httpx.post(url, data=data, timeout=5)\n",
      "  File \"C:\\Users\\Dheeraj Patil\\AppData\\Roaming\\Python\\Python311\\site-packages\\httpx\\_api.py\", line 319, in post\n",
      "    return request(\n",
      "           ^^^^^^^^\n",
      "  File \"C:\\Users\\Dheeraj Patil\\AppData\\Roaming\\Python\\Python311\\site-packages\\httpx\\_api.py\", line 106, in request\n",
      "    return client.request(\n",
      "           ^^^^^^^^^^^^^^^\n",
      "  File \"C:\\Users\\Dheeraj Patil\\AppData\\Roaming\\Python\\Python311\\site-packages\\httpx\\_client.py\", line 827, in request\n",
      "    return self.send(request, auth=auth, follow_redirects=follow_redirects)\n",
      "           ^^^^^^^^^^^^^^^^^^^^^^^^^^^^^^^^^^^^^^^^^^^^^^^^^^^^^^^^^^^^^^^^\n",
      "  File \"C:\\Users\\Dheeraj Patil\\AppData\\Roaming\\Python\\Python311\\site-packages\\httpx\\_client.py\", line 914, in send\n",
      "    response = self._send_handling_auth(\n",
      "               ^^^^^^^^^^^^^^^^^^^^^^^^^\n",
      "  File \"C:\\Users\\Dheeraj Patil\\AppData\\Roaming\\Python\\Python311\\site-packages\\httpx\\_client.py\", line 942, in _send_handling_auth\n",
      "    response = self._send_handling_redirects(\n",
      "               ^^^^^^^^^^^^^^^^^^^^^^^^^^^^^^\n",
      "  File \"C:\\Users\\Dheeraj Patil\\AppData\\Roaming\\Python\\Python311\\site-packages\\httpx\\_client.py\", line 979, in _send_handling_redirects\n",
      "    response = self._send_single_request(request)\n",
      "               ^^^^^^^^^^^^^^^^^^^^^^^^^^^^^^^^^^\n",
      "  File \"C:\\Users\\Dheeraj Patil\\AppData\\Roaming\\Python\\Python311\\site-packages\\httpx\\_client.py\", line 1015, in _send_single_request\n",
      "    response = transport.handle_request(request)\n",
      "               ^^^^^^^^^^^^^^^^^^^^^^^^^^^^^^^^^\n",
      "  File \"C:\\Users\\Dheeraj Patil\\AppData\\Roaming\\Python\\Python311\\site-packages\\httpx\\_transports\\default.py\", line 232, in handle_request\n",
      "    with map_httpcore_exceptions():\n",
      "  File \"C:\\ProgramData\\anaconda3\\Lib\\contextlib.py\", line 155, in __exit__\n",
      "    self.gen.throw(typ, value, traceback)\n",
      "  File \"C:\\Users\\Dheeraj Patil\\AppData\\Roaming\\Python\\Python311\\site-packages\\httpx\\_transports\\default.py\", line 86, in map_httpcore_exceptions\n",
      "    raise mapped_exc(message) from exc\n",
      "httpx.ConnectTimeout: _ssl.c:985: The handshake operation timed out\n"
     ]
    }
   ],
   "source": [
    "with gr.Blocks(title=\"Speech Emotion Recognition\") as demo:\n",
    "\n",
    "    gr.Markdown(\n",
    "    \"\"\"    # Emotion Detection from Speech\n",
    "    \n",
    "            ##### Detection of anger, sadness, joy, fear in speech using OpenAI Whisper and XLM-RoBERTa \n",
    "            \n",
    "            \"\"\")\n",
    "    \n",
    "    with gr.Column():\n",
    "        with gr.Tab(\"Record Audio\"):\n",
    "            audio_input_r = gr.Audio(label = 'Record Audio Input',sources=\"microphone\",type=\"filepath\")\n",
    "            transcribe_audio_r = gr.Button('Transcribe')\n",
    "        \n",
    "        with gr.Tab(\"Upload Audio as File\"):\n",
    "            audio_input_u = gr.Audio(label = 'Upload Audio',sources=\"upload\",type=\"filepath\")\n",
    "            transcribe_audio_u = gr.Button('Transcribe')\n",
    "\n",
    "        with gr.Row():\n",
    "            transcript_output = gr.Textbox(label=\"Transcription in the language of speech/audio\", lines = 3)\n",
    "            emotion_output = gr.Label(label = \"Detected Emotion\")\n",
    "    \n",
    "    transcribe_audio_r.click(translate_and_classify, inputs = audio_input_r, outputs = [transcript_output,emotion_output])\n",
    "    transcribe_audio_u.click(translate_and_classify, inputs = audio_input_u, outputs = [transcript_output,emotion_output])       \n",
    "    \n",
    "demo.launch(inbrowser=True)"
   ]
  }
 ],
 "metadata": {
  "kernelspec": {
   "display_name": "Python 3 (ipykernel)",
   "language": "python",
   "name": "python3"
  },
  "language_info": {
   "codemirror_mode": {
    "name": "ipython",
    "version": 3
   },
   "file_extension": ".py",
   "mimetype": "text/x-python",
   "name": "python",
   "nbconvert_exporter": "python",
   "pygments_lexer": "ipython3",
   "version": "3.11.4"
  }
 },
 "nbformat": 4,
 "nbformat_minor": 5
}
